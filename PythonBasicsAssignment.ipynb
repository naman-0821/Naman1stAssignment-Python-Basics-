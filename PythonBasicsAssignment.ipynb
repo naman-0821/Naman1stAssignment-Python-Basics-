{
 "cells": [
  {
   "cell_type": "code",
   "execution_count": null,
   "id": "028c921e-a49e-4576-8a0c-1b01e09732a3",
   "metadata": {},
   "outputs": [],
   "source": [
    "# Q1=Explain the key features of Python that make it a popular choice for programming."
   ]
  },
  {
   "cell_type": "markdown",
   "id": "786c1973-fb90-4339-9d31-1c2330b5a854",
   "metadata": {},
   "source": [
    "Python is a great language for beginners! It's easy to read and understand, like writing in English. You don't have to worry about declaring variable types, Python figures it out for you.\n",
    "\n",
    "It has a huge library of tools, so you can do many things without writing a lot of code. You can use it for websites, data analysis, and even building games!\n",
    "\n",
    "Python is also very versatile, it can run on different computers like Windows, Mac, or Linux. Plus, there's a big community of programmers to help you learn and solve problems."
   ]
  },
  {
   "cell_type": "code",
   "execution_count": 9,
   "id": "0a1c6253-2d56-4030-8fc7-65db755a0a48",
   "metadata": {},
   "outputs": [],
   "source": [
    "#Q2=Describe the role of predefined keywords in Python and provide examples of how they are used in a program."
   ]
  },
  {
   "cell_type": "markdown",
   "id": "58649c02-3944-41e4-9469-be22b9fe0931",
   "metadata": {},
   "source": [
    "Keywords are like special words in Python that tell the computer what to do. They're essential for writing code!\n",
    "\n",
    "Here are some examples:\n",
    "\n",
    "if and else: These help you make decisions. \n",
    "for and while: These help you repeat actions.\n",
    "\n",
    "##It is not advisable to use keywords as variables."
   ]
  },
  {
   "cell_type": "code",
   "execution_count": 10,
   "id": "925fc784-baa2-4264-be87-16c3d4b171e2",
   "metadata": {},
   "outputs": [],
   "source": [
    "#Q3=Compare and contrast mutable and immutable objects in Python with examples."
   ]
  },
  {
   "cell_type": "markdown",
   "id": "3a1cc52b-9c19-41cd-8112-d3770496adf9",
   "metadata": {},
   "source": [
    "Mutable Objects\n",
    "\n",
    "Mutable objects can be changed after they are created. This means you can modify their values or structure.\n",
    "\n",
    "Example: Lists\n",
    "\n",
    "Python\n",
    "my_list = [1, 2, 3]\n",
    "print(my_list)  # Output: [1, 2, 3]\n",
    "\n",
    "my_list[0] = 10\n",
    "print(my_list)  # Output: [10, 2, 3]\n",
    "Use code with caution.\n",
    "\n",
    "Immutable Objects\n",
    "\n",
    "Immutable objects cannot be changed once they are created. If you want to modify them, you need to create a new object.\n",
    "\n",
    "Example: Strings\n",
    "\n",
    "Python\n",
    "my_string = \"hello\"\n",
    "print(my_string)  # Output: hello\n",
    "\n",
    "#You can't change a character in the string directly\n",
    "my_string[0] = 'H'  # This will raise an error"
   ]
  },
  {
   "cell_type": "code",
   "execution_count": 11,
   "id": "55814803-bba7-485a-8073-75b809d9047c",
   "metadata": {},
   "outputs": [],
   "source": [
    "#Q4=Discuss the different types of operators in Python and provide examples of how they are used"
   ]
  },
  {
   "cell_type": "markdown",
   "id": "edb4b67b-213a-43ef-b396-4b4627133a31",
   "metadata": {},
   "source": [
    "Python supports various types of operators to perform different operations on variables and values. Here are the main types of operators:\n",
    "Arithmetic Operators:\n",
    "Used for basic mathematical operations.\n",
    "\n",
    "+ (Addition): x + y\n",
    "- (Subtraction): x - y\n",
    "* (Multiplication): x * y\n",
    "/ (Division): x / y\n",
    "% (Modulus): x % y (remainder after division)\n",
    "// (Floor Division): x // y (quotient without remainder)\n",
    "**** (Exponentiation): x ** y (x raised to the power of y)\n",
    "Comparison Operators:\n",
    "Used to compare values.\n",
    "\n",
    "== (Equal to): x == y\n",
    "!= (Not equal to): x != y\n",
    "> (Greater than): x > y\n",
    "< (Less than): x < y\n",
    ">= (Greater than or equal to): x >= y\n",
    "<= (Less than or equal to): x <= y\n",
    "Logical Operators:\n",
    "Used to combine conditional statements.   \n",
    "\n",
    "and (Logical AND): x and y (True if both x and y are True)   \n",
    "or (Logical OR): x or y (True if either x or y is True)\n",
    "not (Logical NOT): not x (True if x is False)\n",
    "Assignment Operators:\n",
    "Used to assign values to variables.\n",
    "\n",
    "= (Assignment): x = y\n",
    "+= (Add and assign): x += y (equivalent to x = x + y)\n",
    "-= (Subtract and assign): x -= y\n",
    "*= (Multiply and assign): x *= y\n",
    "/= (Divide and assign): x /= y\n",
    "%= (Modulus and assign): x %= y\n",
    "//= (Floor division and assign): x //= y\n",
    "**= (Exponentiation and assign): x **= y\n",
    "Bitwise Operators:\n",
    "Used to manipulate bits of numbers.\n",
    "\n",
    "& (Bitwise AND)\n",
    "| (Bitwise OR)\n",
    "^ (Bitwise XOR)\n",
    "~ (Bitwise NOT)\n",
    "<< (Left shift)\n",
    ">> (Right shift)\n",
    "By understanding and using these operators effectively, you can write complex and powerful Python programs.\n",
    ">>\n",
    "'''"
   ]
  },
  {
   "cell_type": "code",
   "execution_count": 1,
   "id": "cc7208b7-2571-4633-9856-aacbbb70bc30",
   "metadata": {},
   "outputs": [],
   "source": [
    "#Q5=Explain the concept of type casting in Python with examples."
   ]
  },
  {
   "cell_type": "markdown",
   "id": "07a8cd0f-f041-46e2-9ce2-3203c6f53d3e",
   "metadata": {},
   "source": [
    "**Type Casting in Python**\n",
    "\n",
    "Type casting, also known as type conversion, is the process of converting one data type to another. Python provides built-in functions to perform explicit type casting:\n",
    "\n",
    "**Common Data Types and Conversion Functions:**\n",
    "\n",
    "* \n",
    "**`int()`:** Converts a value to an integer.\n",
    "  ```python\n",
    "  x = \"10\"\n",
    "  y = int(x)  # y is now an integer 10\n",
    "  ```\n",
    "* **`float()`:** Converts a value to a floating-point number.\n",
    "  ```python\n",
    "  x = \"3.14\"\n",
    "  y = float(x)  # y is now a float 3.14\n",
    "  ```\n",
    "* **`str()`:** Converts a value to a string.\n",
    "  ```python\n",
    "  x = 10\n",
    "  y = str(x)  # y is now a string \"10\"\n",
    "  ```\n",
    "* **`bool()`:** Converts a value to a Boolean (True or False).\n",
    "  ```python\n",
    "  x = 1\n",
    "  y = bool(x)  # y is now a Boolean True\n",
    "  ```\n"
   ]
  },
  {
   "cell_type": "code",
   "execution_count": 2,
   "id": "7652ffc9-5ff6-4ae1-a121-11b2e6ee918c",
   "metadata": {},
   "outputs": [],
   "source": [
    "#Q6=How do conditional statements work in Python? Illustrate with examples."
   ]
  },
  {
   "cell_type": "markdown",
   "id": "8e36e9fc-d2c7-4c49-a068-f9a572721891",
   "metadata": {},
   "source": [
    "if Statement:\n",
    "\n",
    "Executes a block of code if a given condition is true.\n",
    "\n",
    "if-else Statement:\n",
    "\n",
    "Executes one block of code if the condition is true, and another if it's false.\n",
    "\n",
    "if-elif-else Statement:\n",
    "\n",
    "Allows for multiple conditions to be checked sequentially.\n",
    "#EXAMPLES ARE LISTED BELOW:-"
   ]
  },
  {
   "cell_type": "code",
   "execution_count": 3,
   "id": "6627ffde-3450-4b2b-ba97-71404fb6a50f",
   "metadata": {},
   "outputs": [
    {
     "name": "stdout",
     "output_type": "stream",
     "text": [
      "You are an adult.\n"
     ]
    }
   ],
   "source": [
    "age = 18\n",
    "if age >= 18:\n",
    "    print(\"You are an adult.\")"
   ]
  },
  {
   "cell_type": "code",
   "execution_count": 4,
   "id": "0033d17c-26b9-4d13-87c0-3cdf825b9ee3",
   "metadata": {},
   "outputs": [
    {
     "name": "stdout",
     "output_type": "stream",
     "text": [
      "y is greater than or equal to x\n"
     ]
    }
   ],
   "source": [
    "x = 10\n",
    "y = 20\n",
    "\n",
    "if x > y:\n",
    "    print(\"x is greater than y\")\n",
    "else:\n",
    "    print(\"y is greater than or equal to x\")"
   ]
  },
  {
   "cell_type": "code",
   "execution_count": null,
   "id": "77627230-cb99-492f-a82f-0d1b8f5b7deb",
   "metadata": {},
   "outputs": [],
   "source": [
    "number = int(input(\"Enter a number: \"))\n",
    "\n",
    "if number > 0:\n",
    "    print(\"Positive number\")\n",
    "elif number == 0:\n",
    "    print(\"Zero\")\n",
    "else:\n",
    "    print(\"Negative number\")"
   ]
  },
  {
   "cell_type": "code",
   "execution_count": null,
   "id": "c2ac8c53-4cc7-43a7-9a31-0f1502852fdf",
   "metadata": {},
   "outputs": [],
   "source": [
    "#Q7=Describe the different types of loops in Python and their use cases with examples."
   ]
  },
  {
   "cell_type": "markdown",
   "id": "23421ea5-4f3b-45f8-bd68-145d0ae81d0c",
   "metadata": {},
   "source": [
    "Loops are a fundamental programming concept that allows you to execute a block of code repeatedly. Python offers two primary types of loops: for loops and while loops.\n",
    "\n",
    "1. For Loops"
   ]
  },
  {
   "cell_type": "code",
   "execution_count": 6,
   "id": "aeea9f4f-00f5-41d8-935d-b8354f783ed8",
   "metadata": {},
   "outputs": [
    {
     "name": "stdout",
     "output_type": "stream",
     "text": [
      "apple\n",
      "banana\n",
      "cherry\n"
     ]
    }
   ],
   "source": [
    "#Iterating over a sequence:\n",
    "fruits = [\"apple\", \"banana\", \"cherry\"]\n",
    "for fruit in fruits:\n",
    "    print(fruit)"
   ]
  },
  {
   "cell_type": "markdown",
   "id": "eafc9fac-0692-46aa-b8d7-3a2e76d10e7d",
   "metadata": {},
   "source": [
    "2. While Loops\n",
    "\n",
    "Repeating a block of code while a condition is true:"
   ]
  },
  {
   "cell_type": "code",
   "execution_count": 34,
   "id": "9122a08f-3bf3-4573-a22d-1ef3e36fc59c",
   "metadata": {},
   "outputs": [
    {
     "name": "stdout",
     "output_type": "stream",
     "text": [
      "Hello, world!\n",
      "Hello, world!\n",
      "Hello, world!\n",
      "Hello, world!\n",
      "Hello, world!\n"
     ]
    }
   ],
   "source": [
    "count = 0\n",
    "while count < 5:\n",
    "    print(\"Hello, world!\")\n",
    "    count += 1"
   ]
  },
  {
   "cell_type": "markdown",
   "id": "94f469c7-632a-4dc4-a5ce-428bfbbc89fa",
   "metadata": {},
   "source": [
    "Use Cases:\n",
    "\n",
    "Iterating over lists, tuples, or strings\n",
    "Repeating actions a specific number of times\n",
    "Processing data until a certain condition is met:"
   ]
  },
  {
   "cell_type": "code",
   "execution_count": 35,
   "id": "b2af575e-822b-4e69-aa50-ed1ce57a564f",
   "metadata": {},
   "outputs": [],
   "source": [
    "                 #END OF ASSIGNMENT1(Python basics)"
   ]
  },
  {
   "cell_type": "code",
   "execution_count": null,
   "id": "e4372b64-391e-475e-a87e-6bddd0cd49bb",
   "metadata": {},
   "outputs": [],
   "source": []
  }
 ],
 "metadata": {
  "kernelspec": {
   "display_name": "Python 3 (ipykernel)",
   "language": "python",
   "name": "python3"
  },
  "language_info": {
   "codemirror_mode": {
    "name": "ipython",
    "version": 3
   },
   "file_extension": ".py",
   "mimetype": "text/x-python",
   "name": "python",
   "nbconvert_exporter": "python",
   "pygments_lexer": "ipython3",
   "version": "3.12.7"
  }
 },
 "nbformat": 4,
 "nbformat_minor": 5
}
